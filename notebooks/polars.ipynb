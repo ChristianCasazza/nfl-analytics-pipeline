{
 "cells": [
  {
   "cell_type": "code",
   "execution_count": null,
   "id": "0caf8a1c",
   "metadata": {},
   "outputs": [],
   "source": [
    "from pathlib import Path\n",
    "import sys\n",
    "import polars as pl\n",
    "\n",
    "# ── Set up imports ──────────────────────────────────────────────\n",
    "nb_dir   = Path.cwd()                    # …/notebooks\n",
    "repo_dir = nb_dir.parent\n",
    "sys.path.insert(0, str(repo_dir))\n",
    "\n",
    "from pipeline.datasets import (\n",
    "    SINGLE_FILE_ASSETS_NAMES,\n",
    ")\n",
    "from pipeline.utils.polars_wrapper import PolarsWrapper\n",
    "\n",
    "# ── Create the context ─────────────────────────────────────────\n",
    "ctx = PolarsWrapper()\n"
   ]
  },
  {
   "cell_type": "code",
   "execution_count": null,
   "id": "bc4c5560",
   "metadata": {},
   "outputs": [],
   "source": [
    "BASE_PATH = \"data/opendata/clean\"\n",
    "ctx.bulk_register_data(\n",
    "    repo_root=repo_dir,\n",
    "    base_path=BASE_PATH,\n",
    "    table_names=SINGLE_FILE_ASSETS_NAMES,\n",
    "    wildcard=\"*.parquet\",\n",
    ")\n",
    "\n",
    "\n",
    "ctx.show_tables()\n"
   ]
  },
  {
   "cell_type": "code",
   "execution_count": null,
   "id": "058435ed",
   "metadata": {},
   "outputs": [],
   "source": [
    "ctx.show_tables()"
   ]
  },
  {
   "cell_type": "code",
   "execution_count": null,
   "id": "2ff92e67",
   "metadata": {},
   "outputs": [],
   "source": [
    "lf = ctx.lazy(\"nfl_pbp_2024\")"
   ]
  },
  {
   "cell_type": "code",
   "execution_count": null,
   "id": "ff946caa",
   "metadata": {},
   "outputs": [],
   "source": [
    "# 1. Total yards gained by possession team in the 2024 season\n",
    "df_total_yards = (\n",
    "    lf\n",
    "    .filter(pl.col(\"season\") == 2024)\n",
    "    .group_by(\"posteam\")\n",
    "    .agg(\n",
    "        pl.col(\"yards_gained\")\n",
    "          .sum()\n",
    "          .alias(\"total_yards_2024\")\n",
    "    )\n",
    "    .sort(\"total_yards_2024\", descending=True)\n",
    "    .collect()\n",
    ")\n",
    "print(df_total_yards)"
   ]
  },
  {
   "cell_type": "code",
   "execution_count": null,
   "id": "3e735b5a",
   "metadata": {},
   "outputs": [],
   "source": [
    "df_avg_air = (\n",
    "    lf\n",
    "    .filter(\n",
    "        (pl.col(\"season\") == 2024) &\n",
    "        (pl.col(\"qtr\") == 1) &\n",
    "        (pl.col(\"pass_attempt\") == 1)\n",
    "    )\n",
    "    .group_by(\"pass_length\")\n",
    "    .agg(\n",
    "        pl.col(\"air_yards\")\n",
    "          .mean()\n",
    "          .round(2)\n",
    "          .alias(\"avg_air_yards_q1\")\n",
    "    )\n",
    "    .sort(\"avg_air_yards_q1\", descending=True)\n",
    "    .collect()\n",
    ")\n",
    "print(df_avg_air)"
   ]
  },
  {
   "cell_type": "code",
   "execution_count": null,
   "id": "3ce12da5",
   "metadata": {},
   "outputs": [],
   "source": [
    "sql = \"\"\"\n",
    "SELECT COUNT(*) AS n FROM nfl_pbp_ten_years\n",
    "\"\"\"\n",
    "df_sql = ctx.run_query(sql)\n",
    "print(df_sql)"
   ]
  }
 ],
 "metadata": {
  "kernelspec": {
   "display_name": ".venv",
   "language": "python",
   "name": "python3"
  },
  "language_info": {
   "codemirror_mode": {
    "name": "ipython",
    "version": 3
   },
   "file_extension": ".py",
   "mimetype": "text/x-python",
   "name": "python",
   "nbconvert_exporter": "python",
   "pygments_lexer": "ipython3",
   "version": "3.11.11"
  }
 },
 "nbformat": 4,
 "nbformat_minor": 5
}
